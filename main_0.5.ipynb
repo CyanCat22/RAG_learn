{
 "cells": [
  {
   "cell_type": "code",
   "execution_count": 1,
   "metadata": {},
   "outputs": [
    {
     "name": "stderr",
     "output_type": "stream",
     "text": [
      "Special tokens have been added in the vocabulary, make sure the associated word embeddings are fine-tuned or trained.\n"
     ]
    }
   ],
   "source": [
    "import os\n",
    "os.environ['HF_ENDPOINT'] = 'https://hf-mirror.com'\n",
    "from transformers import AutoModelForCausalLM, AutoTokenizer, pipeline\n",
    "from langchain.llms.huggingface_pipeline import HuggingFacePipeline\n",
    "\n",
    "device = \"cuda\" # 加载模型的设备\n",
    "\n",
    "model = AutoModelForCausalLM.from_pretrained(\n",
    "   \"M:\\model\\Qwen1.5_0.5b_chat\",\n",
    "    device_map=\"auto\",\n",
    ")\n",
    "tokenizer = AutoTokenizer.from_pretrained(\"M:\\model\\Qwen1.5_0.5b_chat\")\n",
    "pipe = pipeline(\"text-generation\", model=model, tokenizer=tokenizer, max_new_tokens=500)\n",
    "llm = HuggingFacePipeline(pipeline=pipe)"
   ]
  },
  {
   "cell_type": "code",
   "execution_count": 2,
   "metadata": {},
   "outputs": [],
   "source": [
    "from langchain_community.document_loaders import PDFPlumberLoader\n",
    "file_path = '1关于数字化改革总体方案的汇报（省委改革办）.pdf'\n",
    "loader = PDFPlumberLoader(file_path)\n",
    "data = loader.load()\n"
   ]
  },
  {
   "cell_type": "code",
   "execution_count": 3,
   "metadata": {},
   "outputs": [],
   "source": [
    "# 文本分割\n",
    "from langchain.text_splitter import RecursiveCharacterTextSplitter\n",
    "text_splitter = RecursiveCharacterTextSplitter(chunk_size=1000, chunk_overlap=200, add_start_index=True)\n",
    "all_splits = text_splitter.split_documents(data)"
   ]
  },
  {
   "cell_type": "code",
   "execution_count": 4,
   "metadata": {},
   "outputs": [
    {
     "name": "stderr",
     "output_type": "stream",
     "text": [
      "No sentence-transformers model found with name ./bge-large-zh-v1.5. Creating a new one with MEAN pooling.\n",
      "c:\\Users\\gu\\AppData\\Local\\conda\\conda\\envs\\py310\\lib\\site-packages\\torch\\_utils.py:776: UserWarning: TypedStorage is deprecated. It will be removed in the future and UntypedStorage will be the only storage class. This should only matter to you if you are using storages directly.  To access UntypedStorage directly, use tensor.untyped_storage() instead of tensor.storage()\n",
      "  return self.fget.__get__(instance, owner)()\n"
     ]
    }
   ],
   "source": [
    "# 向量化存储\n",
    "from langchain_community.embeddings import HuggingFaceBgeEmbeddings\n",
    "\n",
    "model_name = \"./bge-large-zh-v1.5\"\n",
    "model_kwargs = {\"device\": \"cuda\"}\n",
    "encode_kwargs = {\"normalize_embeddings\": True}\n",
    "bgeEmbeddings = HuggingFaceBgeEmbeddings(\n",
    "    model_name=model_name,\n",
    "    model_kwargs=model_kwargs,\n",
    "    encode_kwargs=encode_kwargs\n",
    ")"
   ]
  },
  {
   "cell_type": "code",
   "execution_count": 5,
   "metadata": {},
   "outputs": [],
   "source": [
    "# 向量数据库\n",
    "from langchain.vectorstores import FAISS\n",
    "vector = FAISS.from_documents(all_splits, bgeEmbeddings)\n"
   ]
  },
  {
   "cell_type": "code",
   "execution_count": 6,
   "metadata": {},
   "outputs": [],
   "source": [
    "retriever = vector.as_retriever(search_type=\"similarity\", search_kwargs={\"k\": 3})\n",
    "# retriever.invoke(\"省委改革办数字化总体方案要求有哪些？\")"
   ]
  },
  {
   "cell_type": "code",
   "execution_count": 7,
   "metadata": {},
   "outputs": [],
   "source": [
    "from langchain_core.prompts import ChatPromptTemplate\n",
    "from langchain_core.prompts import BaseChatPromptTemplate\n",
    "prompt = ChatPromptTemplate.from_template(\"\"\"仅根据所提供的上下文回答以下问题:\n",
    "\n",
    "<context>\n",
    "{context}\n",
    "</context>\n",
    "\n",
    "问题: {question}\"\"\")\n",
    "\n",
    "from langchain_core.output_parsers import StrOutputParser\n",
    "from langchain_core.runnables import RunnablePassthrough, RunnableSequence\n",
    "retriever_chain: RunnableSequence = (\n",
    "    {\"context\": retriever , \"question\": RunnablePassthrough()}\n",
    "    | prompt\n",
    "    | llm\n",
    "    # | StrOutputParser()\n",
    ")"
   ]
  },
  {
   "cell_type": "code",
   "execution_count": 8,
   "metadata": {},
   "outputs": [
    {
     "name": "stdout",
     "output_type": "stream",
     "text": [
      "Human: 仅根据所提供的上下文回答以下问题:\n",
      "\n",
      "<context>\n",
      "[Document(page_content='全 省 数 字 化 改 革 大 会\\n会\\n议\\n资\\n料\\n（一）\\n中共浙江省委全面深化改革委员会办公室\\n年 月\\n２０２１ ２\\n书书书', metadata={'source': '1关于数字化改革总体方案的汇报（省委改革办）.pdf', 'file_path': '1关于数字化改革总体方案的汇报（省委改革办）.pdf', 'page': 0, 'total_pages': 44, 'CreationDate': \"D:20210217220844+08'00'\", 'Author': 'Founder Electronics Ltd', 'Creator': 'Founder PDF Library', 'Producer': 'Founder PDF Library', 'ModDate': \"D:20210217213532+08'00'\", 'start_index': 0}), Document(page_content='关于数字化改革总体方案的汇报\\n省委改革办\\n根据会议安排，现就数字化改革总体方案（以下简称《总体方\\n案》）有关情况汇报如下。\\n一、起草背景\\n省委十四届八次全会作出了以数字化改革为总抓手，撬动各\\n领域各方面改革的决策部署。袁家军书记亲自谋划、亲自推动，在\\n省委党校党的十九届五中全会精神集中轮训班上提出了“七个关\\n键”的顶层设计，此后又分别于 年 月 日、 年 月\\n２０２０ １２ ２９ ２０２１ １ ４\\n日、 月 日、 月 日、 月 日、 月 日主持召开 次专题会\\n１ ２２ ２ ７ ２ ９ ２ １４ ６\\n议，听取汇报、作出指示，逐一研究明确数字化改革的定义内涵、目\\n标任务、体系架构、方法路径、推进机制等重大问题，为数字化改革\\n搭建了“四梁八柱”。郑栅洁省长多次强调，要充分发挥政府数字\\n化转型先发优势，推进数字化改革，提高政府治理现代化水平。陈\\n金彪秘书长、王昌荣书记、高兴夫副省长等省领导指导推动总体方\\n案和相关系统方案起草工作。省委改革办、省大数据局切实履行\\n牵头职责，会同省委办公厅、省政府办公厅、省委政法委、省发展改\\n革委、省经信厅等单位认真研究，综合集成支撑平台方案和党政机\\n关整体智治、数字政府、数字经济、数字社会、数字法治 个系统方\\n５\\n— —\\n１', metadata={'source': '1关于数字化改革总体方案的汇报（省委改革办）.pdf', 'file_path': '1关于数字化改革总体方案的汇报（省委改革办）.pdf', 'page': 1, 'total_pages': 44, 'CreationDate': \"D:20210217220844+08'00'\", 'Author': 'Founder Electronics Ltd', 'Creator': 'Founder PDF Library', 'Producer': 'Founder PDF Library', 'ModDate': \"D:20210217213532+08'00'\", 'start_index': 0}), Document(page_content='织、机制，推动数字化改革实践上升为理论成果，形成数字化改革\\n理论体系。到 年底，组建大成集智的数字化改革专家组，初\\n２０２１\\n步建立数字化改革的内涵、目标、思路、举措、项目等理论体系。到\\n年底，基本建成“政府主导 社会参与”的数字化改革理论研\\n２０２２ ＋\\n究机制，基本形成数字化改革理论体系。到 年底，全面形成\\n２０２５\\n数字化改革理论体系。\\n加强基本理论问题研究。强化实践基础上的理论研究和\\n１\\ue010\\n指导，进一步统一思想、形成共识。组织专门力量，对数字化改革\\n的对象、主体、客体、系统、组织、机制进行研究，着力厘清思路；加\\n强对数字化改革的内涵、目标、思路、举措、项目等理论研究，形成\\n数字化改革的理论体系。（牵头单位：省委政研室；协同单位：省\\n委党校、省社科院）\\n组建大成集智改革智库。成立数字化改革专家组，把党的\\n２\\ue010\\n建设、公共管理、经济治理、社会治理、数字化建设等各领域的专家\\n和企业家、基层工作者都吸纳进来，打造“最强大脑”。建立健全\\n专家组运行机制，持续丰富改革智库运行方式，集中各方面智慧，\\n凝聚最广泛力量，为数字化改革理论体系提供智力支持。（牵头\\n单位：省委改革办；协同单位：省委党校、省社科院）\\n创新理论研究机制。积极探索“政府主导 社会参与”的\\n３\\ue010 ＋\\n数字化改革理论研究机制，加快数字化改革的开源创新平台建设，\\n鼓励高校、科研机构参与数字化改革理论研究，吸引社会力量共同\\n参与，形成理论研究的强大合力。（牵头单位：省委政研室；协同\\n— —\\n３９', metadata={'source': '1关于数字化改革总体方案的汇报（省委改革办）.pdf', 'file_path': '1关于数字化改革总体方案的汇报（省委改革办）.pdf', 'page': 39, 'total_pages': 44, 'CreationDate': \"D:20210217220844+08'00'\", 'Author': 'Founder Electronics Ltd', 'Creator': 'Founder PDF Library', 'Producer': 'Founder PDF Library', 'ModDate': \"D:20210217213532+08'00'\", 'start_index': 0})]\n",
      "</context>\n",
      "\n",
      "问题: 省委改革办数字化总体方案要求有哪些？\n"
     ]
    }
   ],
   "source": [
    "ans1 = retriever_chain.invoke(\"省委改革办数字化总体方案要求有哪些？\")\n",
    "# ans1 = retriever_chain.invoke(\"省委改革办数字化总体方案要求有哪些？\")\n",
    "print(ans1)\n"
   ]
  },
  {
   "cell_type": "code",
   "execution_count": 9,
   "metadata": {},
   "outputs": [
    {
     "name": "stdout",
     "output_type": "stream",
     "text": [
      "Human: 仅根据所提供的上下文回答以下问题:\n",
      "\n",
      "<context>\n",
      "[Document(page_content='全 省 数 字 化 改 革 大 会\\n会\\n议\\n资\\n料\\n（一）\\n中共浙江省委全面深化改革委员会办公室\\n年 月\\n２０２１ ２\\n书书书', metadata={'source': '1关于数字化改革总体方案的汇报（省委改革办）.pdf', 'file_path': '1关于数字化改革总体方案的汇报（省委改革办）.pdf', 'page': 0, 'total_pages': 44, 'CreationDate': \"D:20210217220844+08'00'\", 'Author': 'Founder Electronics Ltd', 'Creator': 'Founder PDF Library', 'Producer': 'Founder PDF Library', 'ModDate': \"D:20210217213532+08'00'\", 'start_index': 0}), Document(page_content='案，多次修改，不断迭代，形成了今天《总体方案》汇报稿。\\n二、主要内容\\n《总体方案》分为总体要求、重点任务、保障体系 个板块。\\n３\\n（一）总体要求。包括指导思想、方法路径、主要目标 块内\\n３\\n容。\\n关于指导思想：突出忠实践行“八八战略”、奋力打造“重要窗\\n口”的主题主线，以数字化改革撬动各领域各方面改革，强调运用\\n数字化技术、数字化思维、数字化认知对省域治理的体制机制、组\\n织架构、方式流程、手段工具进行全方位系统性重塑，聚焦“七个\\n关键”，围绕一体化、全方位、制度重塑，以重大任务和年度目标为\\n切入点，推进多部门多场景系统集成应用，推动各地各部门流程再\\n造、数字赋能、高效协同、整体智治，实现质量变革、效率变革、动力\\n变革，高水平推进省域治理现代化，争创社会主义现代化先行省。\\n关于方法路径：用好 字开发方法，将“业务协同模型”和“数\\nＶ\\n据共享模型”贯穿到数字化改革的各领域、各方面、全过程。 字\\nＶ\\n下行阶段，全面梳理党政机关核心业务，从治理与服务两个维度赋\\n予定义，从宏观到微观，实现核心业务数字化。 字上行阶段，再\\nＶ\\n造业务流程，将核心业务组装集成为“一件事”，推进原有业务协\\n同叠加新的重大任务，从微观到宏观，设计标志性应用。\\n关于主要目标：按照“一年出成果、两年大变样、五年新飞跃”\\n的要求，聚焦“应用成果 理论成果 制度成果”，分别提出了到\\n＋ ＋\\n年底、 年底和 年底的目标，推动改革螺旋式上升、\\n２０２１ ２０２２ ２０２５\\n— —\\n２', metadata={'source': '1关于数字化改革总体方案的汇报（省委改革办）.pdf', 'file_path': '1关于数字化改革总体方案的汇报（省委改革办）.pdf', 'page': 2, 'total_pages': 44, 'CreationDate': \"D:20210217220844+08'00'\", 'Author': 'Founder Electronics Ltd', 'Creator': 'Founder PDF Library', 'Producer': 'Founder PDF Library', 'ModDate': \"D:20210217213532+08'00'\", 'start_index': 0}), Document(page_content='关于数字化改革总体方案的汇报\\n省委改革办\\n根据会议安排，现就数字化改革总体方案（以下简称《总体方\\n案》）有关情况汇报如下。\\n一、起草背景\\n省委十四届八次全会作出了以数字化改革为总抓手，撬动各\\n领域各方面改革的决策部署。袁家军书记亲自谋划、亲自推动，在\\n省委党校党的十九届五中全会精神集中轮训班上提出了“七个关\\n键”的顶层设计，此后又分别于 年 月 日、 年 月\\n２０２０ １２ ２９ ２０２１ １ ４\\n日、 月 日、 月 日、 月 日、 月 日主持召开 次专题会\\n１ ２２ ２ ７ ２ ９ ２ １４ ６\\n议，听取汇报、作出指示，逐一研究明确数字化改革的定义内涵、目\\n标任务、体系架构、方法路径、推进机制等重大问题，为数字化改革\\n搭建了“四梁八柱”。郑栅洁省长多次强调，要充分发挥政府数字\\n化转型先发优势，推进数字化改革，提高政府治理现代化水平。陈\\n金彪秘书长、王昌荣书记、高兴夫副省长等省领导指导推动总体方\\n案和相关系统方案起草工作。省委改革办、省大数据局切实履行\\n牵头职责，会同省委办公厅、省政府办公厅、省委政法委、省发展改\\n革委、省经信厅等单位认真研究，综合集成支撑平台方案和党政机\\n关整体智治、数字政府、数字经济、数字社会、数字法治 个系统方\\n５\\n— —\\n１', metadata={'source': '1关于数字化改革总体方案的汇报（省委改革办）.pdf', 'file_path': '1关于数字化改革总体方案的汇报（省委改革办）.pdf', 'page': 1, 'total_pages': 44, 'CreationDate': \"D:20210217220844+08'00'\", 'Author': 'Founder Electronics Ltd', 'Creator': 'Founder PDF Library', 'Producer': 'Founder PDF Library', 'ModDate': \"D:20210217213532+08'00'\", 'start_index': 0})]\n",
      "</context>\n",
      "\n",
      "问题: 省委改革办数字化改革总体方案的汇报中的“1 5 2”任务分别指哪些？\n"
     ]
    }
   ],
   "source": [
    "ans2 = retriever_chain.invoke(\"省委改革办数字化改革总体方案的汇报中的“1 5 2”任务分别指哪些？\")\n",
    "print(ans2)"
   ]
  }
 ],
 "metadata": {
  "kernelspec": {
   "display_name": "py310",
   "language": "python",
   "name": "python3"
  },
  "language_info": {
   "codemirror_mode": {
    "name": "ipython",
    "version": 3
   },
   "file_extension": ".py",
   "mimetype": "text/x-python",
   "name": "python",
   "nbconvert_exporter": "python",
   "pygments_lexer": "ipython3",
   "version": "3.10.12"
  }
 },
 "nbformat": 4,
 "nbformat_minor": 2
}
